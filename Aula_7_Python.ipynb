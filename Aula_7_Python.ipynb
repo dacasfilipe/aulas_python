{
  "nbformat": 4,
  "nbformat_minor": 0,
  "metadata": {
    "colab": {
      "provenance": [],
      "authorship_tag": "ABX9TyMZpf09br7q1CQq1J7jH3PT",
      "include_colab_link": true
    },
    "kernelspec": {
      "name": "python3",
      "display_name": "Python 3"
    },
    "language_info": {
      "name": "python"
    }
  },
  "cells": [
    {
      "cell_type": "markdown",
      "metadata": {
        "id": "view-in-github",
        "colab_type": "text"
      },
      "source": [
        "<a href=\"https://colab.research.google.com/github/dacasfilipe/aulas_python/blob/main/Aula_7_Python.ipynb\" target=\"_parent\"><img src=\"https://colab.research.google.com/assets/colab-badge.svg\" alt=\"Open In Colab\"/></a>"
      ]
    },
    {
      "cell_type": "code",
      "execution_count": null,
      "metadata": {
        "id": "j33vM3Q8pEsj"
      },
      "outputs": [],
      "source": []
    },
    {
      "cell_type": "markdown",
      "source": [
        "---\n",
        "\n",
        "### Aula 7: Módulos e Bibliotecas em Python\n",
        "\n",
        "#### Duração\n",
        "- 1 a 1,5 horas\n",
        "\n",
        "#### Objetivos\n",
        "- Introduzir o conceito de módulos e bibliotecas em Python.\n",
        "- Mostrar como importar e usar módulos e bibliotecas.\n",
        "\n",
        "#### Material Necessário\n",
        "- Computador com Python instalado\n",
        "- IDE ou editor de texto para programação\n",
        "- Projetor para exibir slides e exemplos de código\n",
        "\n",
        "---\n",
        "\n",
        "#### Parte 1: Módulos\n",
        "\n",
        "1. **O que são Módulos?**\n",
        "    - Extensões `.py`\n",
        "    - Reutilização de código\n",
        "\n",
        "2. **Como Importar Módulos**\n",
        "    - `import nome_do_modulo`\n",
        "    ```python\n",
        "    import math\n",
        "    ```\n",
        "\n",
        "3. **Utilizando Funções de Módulos**\n",
        "    - `nome_do_modulo.funcao()`\n",
        "    ```python\n",
        "    raiz = math.sqrt(16)  # 4.0\n",
        "    ```\n",
        "\n",
        "---\n",
        "\n",
        "#### Parte 2: Bibliotecas\n",
        "\n",
        "1. **O que são Bibliotecas?**\n",
        "    - Conjuntos de módulos\n",
        "    - Exemplos: NumPy, Pandas, Matplotlib\n",
        "\n",
        "2. **Instalando Bibliotecas**\n",
        "    - `pip install nome_da_biblioteca`\n",
        "    ```bash\n",
        "    pip install numpy\n",
        "    ```\n",
        "\n",
        "3. **Utilizando Bibliotecas**\n",
        "    ```python\n",
        "    import numpy as np\n",
        "    array = np.array([1, 2, 3])\n",
        "    ```\n",
        "\n",
        "---\n",
        "\n",
        "#### Exercícios Práticos\n",
        "\n",
        "1. **Calculadora Avançada**\n",
        "    - Use o módulo `math` para criar uma calculadora que faz cálculos trigonométricos.\n",
        "\n",
        "2. **Criando um Gráfico Simples**\n",
        "    - Use o Matplotlib para criar um gráfico de linha simples.\n",
        "\n",
        "3. **Manipulação de Dados**\n",
        "    - Use o Pandas para ler um arquivo CSV e mostrar as primeiras 5 linhas.\n",
        "\n",
        "4. **Número Aleatório**\n",
        "    - Use o módulo `random` para gerar um número aleatório entre 1 e 10.\n",
        "\n",
        "5. **Tempo Atual**\n",
        "    - Use o módulo `datetime` para exibir o tempo atual.\n",
        "\n",
        "---\n",
        "\n",
        "#### Material de Apoio\n",
        "\n",
        "- [Documentação Oficial sobre Módulos](https://docs.python.org/3/tutorial/modules.html)\n",
        "- [Documentação Oficial sobre Pacotes](https://docs.python.org/3/tutorial/modules.html#packages)\n",
        "- [Python Modules (W3Schools)](https://www.w3schools.com/python/python_modules.asp)\n",
        "- [Pip and Packages (Real Python)](https://realpython.com/what-is-pip/)\n",
        "\n",
        "---\n"
      ],
      "metadata": {
        "id": "tkstGrXUpIle"
      }
    }
  ]
}