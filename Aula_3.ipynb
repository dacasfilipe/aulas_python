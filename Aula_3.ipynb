{
  "nbformat": 4,
  "nbformat_minor": 0,
  "metadata": {
    "colab": {
      "provenance": [],
      "authorship_tag": "ABX9TyORp60H+vSlrC2s+v3q+194",
      "include_colab_link": true
    },
    "kernelspec": {
      "name": "python3",
      "display_name": "Python 3"
    },
    "language_info": {
      "name": "python"
    }
  },
  "cells": [
    {
      "cell_type": "markdown",
      "metadata": {
        "id": "view-in-github",
        "colab_type": "text"
      },
      "source": [
        "<a href=\"https://colab.research.google.com/github/dacasfilipe/aulas_python/blob/main/Aula_3.ipynb\" target=\"_parent\"><img src=\"https://colab.research.google.com/assets/colab-badge.svg\" alt=\"Open In Colab\"/></a>"
      ]
    },
    {
      "cell_type": "code",
      "execution_count": null,
      "metadata": {
        "id": "7suSLI_p6TnS"
      },
      "outputs": [],
      "source": []
    },
    {
      "cell_type": "markdown",
      "source": [
        "---\n",
        "\n",
        "### Aula 3: Controle de Fluxo\n",
        "\n",
        "#### Duração\n",
        "- 1 a 1,5 horas\n",
        "\n",
        "#### Objetivos\n",
        "- Introduzir conceitos de controle de fluxo como `if`, `elif`, `else`.\n",
        "- Apresentar loops `for` e `while`.\n",
        "\n",
        "#### Material Necessário\n",
        "- Computador com Python instalado\n",
        "- IDE ou editor de texto para programação\n",
        "- Projetor para exibir slides e exemplos de código\n",
        "\n",
        "---\n",
        "\n",
        "#### Parte 1: Condicionais\n",
        "\n",
        "1. **If-Else**\n",
        "    - Introduzir sintaxe e conceito de declarações `if` e `else`.\n",
        "    ```python\n",
        "    if condição:\n",
        "        # código\n",
        "    else:\n",
        "        # código\n",
        "    ```\n",
        "\n",
        "2. **Elif**\n",
        "    - Introduzir o uso de `elif` para múltiplas condições.\n",
        "    ```python\n",
        "    if condição1:\n",
        "        # código\n",
        "    elif condição2:\n",
        "        # código\n",
        "    else:\n",
        "        # código\n",
        "    ```\n",
        "\n",
        "---\n",
        "\n",
        "#### Parte 2: Loops\n",
        "\n",
        "1. **For Loop**\n",
        "    - Explicar o conceito e a sintaxe de um loop `for`.\n",
        "    ```python\n",
        "    for variável in sequência:\n",
        "        # código\n",
        "    for i in range(5):\n",
        "        print(i)\n",
        "\n",
        "    lojas = ['Americanas','Pernambucanas', 'Casas Bahia']\n",
        "    for loja in lojas:\n",
        "        print(loja)\n",
        "    ```\n",
        "\n",
        "2. **While Loop**\n",
        "    - Introduzir loop `while` para repetições baseadas em uma condição.\n",
        "    ```python\n",
        "    while condição:\n",
        "        # código\n",
        "    ```\n",
        "\n",
        "---\n",
        "\n",
        "#### Exercícios Práticos\n",
        "\n",
        "1. **Maior Número**\n",
        "    - Dado dois números, use uma declaração `if-else` para encontrar o maior número.\n",
        "\n",
        "2. **Grau de Exame**\n",
        "    - Converta uma pontuação de exame em um grau (A, B, C, D, F) usando `if`, `elif` e `else`.\n",
        "\n",
        "3. **Soma de Números Ímpares**\n",
        "    - Use um loop `for` para encontrar a soma de todos os números ímpares de 1 a 100.\n",
        "\n",
        "4. **Contagem Regressiva**\n",
        "    - Use um loop `while` para fazer uma contagem regressiva a partir de 10 até 1.\n",
        "\n",
        "5. **Tabuada**\n",
        "    - Crie uma tabuada de multiplicação para um número usando um loop `for`.\n",
        "\n",
        "---\n",
        "\n",
        "#### Material de Apoio\n",
        "\n",
        "- [Python If-Else (W3Schools)](https://www.w3schools.com/python/python_conditions.asp)\n",
        "- [Python Loops (W3Schools)](https://www.w3schools.com/python/python_for_loops.asp)\n",
        "\n",
        "---\n"
      ],
      "metadata": {
        "id": "OsFk5cRI6haU"
      }
    }
  ]
}