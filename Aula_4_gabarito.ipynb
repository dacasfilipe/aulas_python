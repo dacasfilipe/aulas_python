{
  "nbformat": 4,
  "nbformat_minor": 0,
  "metadata": {
    "colab": {
      "provenance": [],
      "include_colab_link": true
    },
    "kernelspec": {
      "name": "python3",
      "display_name": "Python 3"
    },
    "language_info": {
      "name": "python"
    }
  },
  "cells": [
    {
      "cell_type": "markdown",
      "metadata": {
        "id": "view-in-github",
        "colab_type": "text"
      },
      "source": [
        "<a href=\"https://colab.research.google.com/github/dacasfilipe/aulas_python/blob/main/Aula_4_gabarito.ipynb\" target=\"_parent\"><img src=\"https://colab.research.google.com/assets/colab-badge.svg\" alt=\"Open In Colab\"/></a>"
      ]
    },
    {
      "cell_type": "markdown",
      "source": [
        "---\n",
        "\n",
        "### Aula 4: Funções em Python\n",
        "\n",
        "#### Duração\n",
        "- 1 a 1,5 horas\n",
        "\n",
        "#### Objetivos\n",
        "- Introduzir o conceito e a importância das funções em programação.\n",
        "- Ensinar como definir e chamar funções em Python.\n",
        "\n",
        "#### Material Necessário\n",
        "- Computador com Python instalado\n",
        "- IDE ou editor de texto para programação (recomendação: Jupyter Notebook, PyCharm ou VSCode)\n",
        "- Projetor para exibir slides e exemplos de código\n",
        "\n",
        "---\n",
        "\n",
        "#### Parte 1: Introdução às Funções\n",
        "\n",
        "1. **O que são funções?**\n",
        "    - Reutilização de código\n",
        "    - Modularização\n",
        "    - Abstração\n",
        "\n",
        "2. **Definindo Funções**\n",
        "    - Palavra-chave `def`\n",
        "    - Nome da função\n",
        "    - Parâmetros e argumentos\n",
        "\n",
        "    ```python\n",
        "    def minha_funcao(parametro1, parametro2):\n",
        "        # corpo da função\n",
        "        return resultado\n",
        "    ```\n",
        "\n",
        "---\n",
        "\n",
        "#### Parte 2: Tipos de Funções\n",
        "\n",
        "1. **Funções Sem Retorno**\n",
        "    - `print()`, `input()`\n",
        "\n",
        "    ```python\n",
        "    def saudacao(nome):\n",
        "        print(f\"Olá, {nome}!\")\n",
        "    ```\n",
        "\n",
        "2. **Funções com Retorno**\n",
        "    - `return`\n",
        "\n",
        "    ```python\n",
        "    def soma(a, b):\n",
        "        return a + b\n",
        "    ```\n",
        "\n",
        "---\n",
        "\n",
        "#### Exercícios Práticos\n",
        "\n",
        "1. **Calculadora Simples**\n",
        "    - Defina funções para adição, subtração, multiplicação e divisão.\n",
        "\n",
        "2. **Fatorial**\n",
        "    - Defina uma função que calcule o fatorial de um número.\n",
        "\n",
        "3. **Fibonacci**\n",
        "    - Defina uma função que retorne os primeiros `n` números da sequência de Fibonacci.\n",
        "\n",
        "4. **Validador de E-mail**\n",
        "    - Crie uma função que valide se uma string é um e-mail válido.\n",
        "\n",
        "5. **Contador de Palavras**\n",
        "    - Crie uma função que conte o número de palavras em uma frase.\n",
        "\n",
        "---\n",
        "\n",
        "#### Material de Apoio\n",
        "\n",
        "- [Documentação Oficial de Funções em Python](https://docs.python.org/3/tutorial/controlflow.html#defining-functions)\n",
        "- [Python Functions (W3Schools)](https://www.w3schools.com/python/python_functions.asp)\n",
        "\n",
        "---\n"
      ],
      "metadata": {
        "id": "OStmN9dak1nw"
      }
    },
    {
      "cell_type": "code",
      "source": [
        "# Função sem retorno\n",
        "def saudacao(nome):\n",
        "  print(f\"Olá, {nome}!\")\n",
        "\n",
        "#chamada de função ou call\n",
        "saudacao('Filipe')"
      ],
      "metadata": {
        "colab": {
          "base_uri": "https://localhost:8080/"
        },
        "id": "qcwaq7tEd4mR",
        "outputId": "b70e686a-8595-4b3f-d592-99e9747111a5"
      },
      "execution_count": null,
      "outputs": [
        {
          "output_type": "stream",
          "name": "stdout",
          "text": [
            "Olá, Filipe!\n",
            "Filipe\n"
          ]
        }
      ]
    },
    {
      "cell_type": "code",
      "source": [
        "#Função com retorno\n",
        "def soma(a, b):\n",
        "  return a + b\n",
        "\n",
        "soma(2,3)\n",
        "resultado = soma(2,3)\n",
        "print(f'A soma é {resultado}')"
      ],
      "metadata": {
        "colab": {
          "base_uri": "https://localhost:8080/"
        },
        "id": "Y-PxWLnOe9Yb",
        "outputId": "a707d9fd-d89f-4ece-e55d-ac374537c912"
      },
      "execution_count": null,
      "outputs": [
        {
          "output_type": "stream",
          "name": "stdout",
          "text": [
            "A soma é 5\n"
          ]
        }
      ]
    },
    {
      "cell_type": "code",
      "source": [
        "# 3. Fibonacci\n",
        "def fib(n):\n",
        "  \"\"\"\n",
        "  Retorna os primeiros n números da sequência de Fibonacci.\n",
        "\n",
        "  Argumentos:\n",
        "    n: O número de números a retornar.\n",
        "\n",
        "  Retorno:\n",
        "    Uma lista dos primeiros n números da sequência de Fibonacci.\n",
        "  \"\"\"\n",
        "  if n == 0:\n",
        "    return []\n",
        "  elif n == 1:\n",
        "    return [0]\n",
        "  elif n == 2:\n",
        "    return [0, 1]\n",
        "  else:\n",
        "    result = [0, 1]\n",
        "    for i in range(2, n):\n",
        "      result.append(result[i - 1] + result[i - 2])\n",
        "    return result\n",
        "\n",
        "fib(5)"
      ],
      "metadata": {
        "colab": {
          "base_uri": "https://localhost:8080/"
        },
        "id": "UBLAZPc-iI7x",
        "outputId": "69769e13-a5d3-4e2c-df31-3e4b8bfa88e2"
      },
      "execution_count": null,
      "outputs": [
        {
          "output_type": "execute_result",
          "data": {
            "text/plain": [
              "[0, 1, 1, 2, 3]"
            ]
          },
          "metadata": {},
          "execution_count": 6
        }
      ]
    },
    {
      "cell_type": "code",
      "source": [
        "# 4. validador de email\n",
        "import re\n",
        "def is_valid_email(email):\n",
        "  \"\"\"\n",
        "  Valida se uma string é um e-mail válido.\n",
        "\n",
        "  Argumentos:\n",
        "    email: A string a ser validada.\n",
        "\n",
        "  Retorno:\n",
        "    True se a string é um e-mail válido, False caso contrário.\n",
        "  \"\"\"\n",
        "\n",
        "  if not email:\n",
        "    return False\n",
        "\n",
        "  regex = r'^[a-zA-Z0-9_.+-]+@[a-zA-Z0-9-]+\\.[a-zA-Z]+$'\n",
        "  match = re.match(regex, email)\n",
        "  return match is not None\n",
        "\n",
        "is_valid_email('john.doe@gmail.com')\n",
        "#True\n",
        "is_valid_email('john.doe')\n",
        "#False\n",
        "is_valid_email('john.doe@gmail.com.br')\n",
        "#True\n",
        "is_valid_email('john.doe@gmail.com.')\n",
        "#False\n"
      ],
      "metadata": {
        "colab": {
          "base_uri": "https://localhost:8080/"
        },
        "id": "buk_XK7rjlNB",
        "outputId": "c73c38b5-18da-4725-bd81-8bc1700c9df6"
      },
      "execution_count": null,
      "outputs": [
        {
          "output_type": "execute_result",
          "data": {
            "text/plain": [
              "False"
            ]
          },
          "metadata": {},
          "execution_count": 8
        }
      ]
    },
    {
      "cell_type": "code",
      "source": [
        "# 5. Contador de palavras\n",
        "def count_words(sentence):\n",
        "  \"\"\"\n",
        "  Conta o número de palavras em uma frase.\n",
        "\n",
        "  Argumentos:\n",
        "    sentence: A frase a ser contada.\n",
        "\n",
        "  Retorno:\n",
        "    Um inteiro com o número de palavras na frase.\n",
        "  \"\"\"\n",
        "\n",
        "  words = sentence.split()\n",
        "  return len(words)\n",
        "\n",
        "count_words('Olá, mundo!')\n",
        "#2\n",
        "#count_words('Esta é uma frase muito longa.')\n",
        "#6"
      ],
      "metadata": {
        "colab": {
          "base_uri": "https://localhost:8080/"
        },
        "id": "l6ZMADU0kiC_",
        "outputId": "6d6519fb-ac7c-49e0-d1a2-c778bbf3bf1d"
      },
      "execution_count": null,
      "outputs": [
        {
          "output_type": "execute_result",
          "data": {
            "text/plain": [
              "2"
            ]
          },
          "metadata": {},
          "execution_count": 10
        }
      ]
    },
    {
      "cell_type": "code",
      "source": [
        "def fibonacci(n):\n",
        "  \"\"\"Retorna os primeiros n números da sequência de Fibonacci.\"\"\"\n",
        "  if n <= 0:\n",
        "    raise ValueError(\"n deve ser maior ou igual a 0.\")\n",
        "  elif n == 1:\n",
        "    return [0]\n",
        "  elif n == 2:\n",
        "    return [0, 1]\n",
        "  else:\n",
        "    result = [0, 1]\n",
        "    for i in range(2, n):\n",
        "      result.append(result[i - 1] + result[i - 2])\n",
        "    return result\n",
        "\n",
        "\n",
        "fibonacci(10)"
      ],
      "metadata": {
        "colab": {
          "base_uri": "https://localhost:8080/"
        },
        "id": "OX62FIAozfjb",
        "outputId": "896f3c2b-7efb-485b-a2a4-827509eb1c18"
      },
      "execution_count": null,
      "outputs": [
        {
          "output_type": "execute_result",
          "data": {
            "text/plain": [
              "[0, 1, 1, 2, 3, 5, 8, 13, 21, 34]"
            ]
          },
          "metadata": {},
          "execution_count": 12
        }
      ]
    }
  ]
}