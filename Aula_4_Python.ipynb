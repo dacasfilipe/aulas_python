{
  "nbformat": 4,
  "nbformat_minor": 0,
  "metadata": {
    "colab": {
      "provenance": [],
      "authorship_tag": "ABX9TyNibBVehL5G6sdTxkh3v/5Y",
      "include_colab_link": true
    },
    "kernelspec": {
      "name": "python3",
      "display_name": "Python 3"
    },
    "language_info": {
      "name": "python"
    }
  },
  "cells": [
    {
      "cell_type": "markdown",
      "metadata": {
        "id": "view-in-github",
        "colab_type": "text"
      },
      "source": [
        "<a href=\"https://colab.research.google.com/github/dacasfilipe/aulas_python/blob/main/Aula_4_Python.ipynb\" target=\"_parent\"><img src=\"https://colab.research.google.com/assets/colab-badge.svg\" alt=\"Open In Colab\"/></a>"
      ]
    },
    {
      "cell_type": "code",
      "execution_count": null,
      "metadata": {
        "id": "8U9pQ-uRkvHy"
      },
      "outputs": [],
      "source": []
    },
    {
      "cell_type": "markdown",
      "source": [
        "---\n",
        "\n",
        "### Aula 4: Funções em Python\n",
        "\n",
        "#### Duração\n",
        "- 1 a 1,5 horas\n",
        "\n",
        "#### Objetivos\n",
        "- Introduzir o conceito e a importância das funções em programação.\n",
        "- Ensinar como definir e chamar funções em Python.\n",
        "\n",
        "#### Material Necessário\n",
        "- Computador com Python instalado\n",
        "- IDE ou editor de texto para programação (recomendação: Jupyter Notebook, PyCharm ou VSCode)\n",
        "- Projetor para exibir slides e exemplos de código\n",
        "\n",
        "---\n",
        "\n",
        "#### Parte 1: Introdução às Funções\n",
        "\n",
        "1. **O que são funções?**\n",
        "    - Reutilização de código\n",
        "    - Modularização\n",
        "    - Abstração\n",
        "\n",
        "2. **Definindo Funções**\n",
        "    - Palavra-chave `def`\n",
        "    - Nome da função\n",
        "    - Parâmetros e argumentos\n",
        "\n",
        "    ```python\n",
        "    def minha_funcao(parametro1, parametro2):\n",
        "        # corpo da função\n",
        "        return resultado\n",
        "    ```\n",
        "\n",
        "---\n",
        "\n",
        "#### Parte 2: Tipos de Funções\n",
        "\n",
        "1. **Funções Sem Retorno**\n",
        "    - `print()`, `input()`\n",
        "\n",
        "    ```python\n",
        "    def saudacao(nome):\n",
        "        print(f\"Olá, {nome}!\")\n",
        "    ```\n",
        "\n",
        "2. **Funções com Retorno**\n",
        "    - `return`\n",
        "\n",
        "    ```python\n",
        "    def soma(a, b):\n",
        "        return a + b\n",
        "    ```\n",
        "\n",
        "---\n",
        "\n",
        "#### Exercícios Práticos\n",
        "\n",
        "1. **Calculadora Simples**\n",
        "    - Defina funções para adição, subtração, multiplicação e divisão.\n",
        "\n",
        "2. **Fatorial**\n",
        "    - Defina uma função que calcule o fatorial de um número.\n",
        "\n",
        "3. **Fibonacci**\n",
        "    - Defina uma função que retorne os primeiros `n` números da sequência de Fibonacci.\n",
        "\n",
        "4. **Validador de E-mail**\n",
        "    - Crie uma função que valide se uma string é um e-mail válido.\n",
        "\n",
        "5. **Contador de Palavras**\n",
        "    - Crie uma função que conte o número de palavras em uma frase.\n",
        "\n",
        "---\n",
        "\n",
        "#### Material de Apoio\n",
        "\n",
        "- [Documentação Oficial de Funções em Python](https://docs.python.org/3/tutorial/controlflow.html#defining-functions)\n",
        "- [Python Functions (W3Schools)](https://www.w3schools.com/python/python_functions.asp)\n",
        "\n",
        "---\n"
      ],
      "metadata": {
        "id": "OStmN9dak1nw"
      }
    }
  ]
}