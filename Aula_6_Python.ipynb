{
  "nbformat": 4,
  "nbformat_minor": 0,
  "metadata": {
    "colab": {
      "provenance": [],
      "authorship_tag": "ABX9TyPVD/1h1oH431U82fNI6YN6",
      "include_colab_link": true
    },
    "kernelspec": {
      "name": "python3",
      "display_name": "Python 3"
    },
    "language_info": {
      "name": "python"
    }
  },
  "cells": [
    {
      "cell_type": "markdown",
      "metadata": {
        "id": "view-in-github",
        "colab_type": "text"
      },
      "source": [
        "<a href=\"https://colab.research.google.com/github/dacasfilipe/aulas_python/blob/main/Aula_6_Python.ipynb\" target=\"_parent\"><img src=\"https://colab.research.google.com/assets/colab-badge.svg\" alt=\"Open In Colab\"/></a>"
      ]
    },
    {
      "cell_type": "code",
      "execution_count": null,
      "metadata": {
        "id": "T2ZSDEu8ng7i"
      },
      "outputs": [],
      "source": []
    },
    {
      "cell_type": "markdown",
      "source": [
        "---\n",
        "\n",
        "### Aula 6: Arquivos e Exceções em Python\n",
        "\n",
        "#### Duração\n",
        "- 1 a 1,5 horas\n",
        "\n",
        "#### Objetivos\n",
        "- Ensinar aos alunos como ler e escrever arquivos em Python.\n",
        "- Introduzir o conceito de tratamento de exceções.\n",
        "\n",
        "#### Material Necessário\n",
        "- Computador com Python instalado\n",
        "- IDE ou editor de texto para programação\n",
        "- Projetor para exibir slides e exemplos de código\n",
        "\n",
        "---\n",
        "\n",
        "#### Parte 1: Manipulação de Arquivos\n",
        "\n",
        "1. **Leitura de Arquivos**\n",
        "    - `read()`, `readline()`, `readlines()`\n",
        "    ```python\n",
        "    with open('arquivo.txt', 'r') as f:\n",
        "        conteudo = f.read()\n",
        "    ```\n",
        "\n",
        "2. **Escrita em Arquivos**\n",
        "    - `write()`, `writelines()`\n",
        "    ```python\n",
        "    with open('novo_arquivo.txt', 'w') as f:\n",
        "        f.write(\"Olá, mundo!\")\n",
        "    ```\n",
        "\n",
        "3. **Modos de Arquivo**\n",
        "    - `r`, `w`, `a`, `r+`\n",
        "\n",
        "---\n",
        "\n",
        "#### Parte 2: Exceções\n",
        "\n",
        "1. **O que são Exceções?**\n",
        "    - Erros em tempo de execução\n",
        "\n",
        "2. **Tratamento de Exceções**\n",
        "    - `try`, `except`, `finally`\n",
        "    ```python\n",
        "    try:\n",
        "        # código que pode lançar exceção\n",
        "    except TipoDeExceção:\n",
        "        # o que fazer se a exceção ocorrer\n",
        "    finally:\n",
        "        # código que será executado independente de exceções\n",
        "    ```\n",
        "\n",
        "---\n",
        "\n",
        "#### Exercícios Práticos\n",
        "\n",
        "1. **Leitor de Arquivos**\n",
        "    - Crie um programa que leia um arquivo e imprima seu conteúdo.\n",
        "\n",
        "2. **Escritor de Arquivos**\n",
        "    - Crie um programa que escreva uma lista de tarefas em um arquivo.\n",
        "\n",
        "3. **Calculadora com Exceções**\n",
        "    - Modifique sua calculadora da Aula 4 para incluir tratamento de exceções.\n",
        "\n",
        "4. **Busca de Palavra**\n",
        "    - Crie um programa que leia um arquivo e encontre a ocorrência de uma palavra específica.\n",
        "\n",
        "5. **Logs de Erro**\n",
        "    - Crie um programa que registre erros em um arquivo de log usando exceções.\n",
        "\n",
        "---\n",
        "\n",
        "#### Material de Apoio\n",
        "\n",
        "- [Documentação Oficial sobre Manipulação de Arquivos](https://docs.python.org/3/tutorial/inputoutput.html#reading-and-writing-files)\n",
        "- [Documentação Oficial sobre Exceções](https://docs.python.org/3/tutorial/errors.html)\n",
        "- [Python File Handling (W3Schools)](https://www.w3schools.com/python/python_file_handling.asp)\n",
        "- [Python Try Except (W3Schools)](https://www.w3schools.com/python/python_try_except.asp)\n",
        "\n",
        "---\n"
      ],
      "metadata": {
        "id": "D8DGxhOGnkTP"
      }
    }
  ]
}