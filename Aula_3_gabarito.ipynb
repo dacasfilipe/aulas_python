{
  "nbformat": 4,
  "nbformat_minor": 0,
  "metadata": {
    "colab": {
      "provenance": [],
      "authorship_tag": "ABX9TyP94R7IyrCrEyVp74hgDhZN",
      "include_colab_link": true
    },
    "kernelspec": {
      "name": "python3",
      "display_name": "Python 3"
    },
    "language_info": {
      "name": "python"
    }
  },
  "cells": [
    {
      "cell_type": "markdown",
      "metadata": {
        "id": "view-in-github",
        "colab_type": "text"
      },
      "source": [
        "<a href=\"https://colab.research.google.com/github/dacasfilipe/aulas_python/blob/main/Aula_3_gabarito.ipynb\" target=\"_parent\"><img src=\"https://colab.research.google.com/assets/colab-badge.svg\" alt=\"Open In Colab\"/></a>"
      ]
    },
    {
      "cell_type": "code",
      "execution_count": null,
      "metadata": {
        "id": "7suSLI_p6TnS"
      },
      "outputs": [],
      "source": []
    },
    {
      "cell_type": "markdown",
      "source": [
        "---\n",
        "\n",
        "### Aula 3: Controle de Fluxo\n",
        "\n",
        "#### Duração\n",
        "- 1 a 1,5 horas\n",
        "\n",
        "#### Objetivos\n",
        "- Introduzir conceitos de controle de fluxo como `if`, `elif`, `else`.\n",
        "- Apresentar loops `for` e `while`.\n",
        "\n",
        "#### Material Necessário\n",
        "- Computador com Python instalado\n",
        "- IDE ou editor de texto para programação\n",
        "- Projetor para exibir slides e exemplos de código\n",
        "\n",
        "---\n",
        "\n",
        "#### Parte 1: Condicionais\n",
        "\n",
        "1. **If-Else**\n",
        "    - Introduzir sintaxe e conceito de declarações `if` e `else`.\n",
        "    ```python\n",
        "    if condição:\n",
        "        # código\n",
        "    else:\n",
        "        # código\n",
        "    ```\n",
        "\n",
        "2. **Elif**\n",
        "    - Introduzir o uso de `elif` para múltiplas condições.\n",
        "    ```python\n",
        "    if condição1:\n",
        "        # código\n",
        "    elif condição2:\n",
        "        # código\n",
        "    else:\n",
        "        # código\n",
        "    ```\n",
        "\n",
        "---\n",
        "\n",
        "#### Parte 2: Loops\n",
        "\n",
        "1. **For Loop**\n",
        "    - Explicar o conceito e a sintaxe de um loop `for`.\n",
        "    ```python\n",
        "    for variável in sequência:\n",
        "        # código\n",
        "    for i in range(5):\n",
        "        print(i)\n",
        "\n",
        "    lojas = ['Americanas','Pernambucanas', 'Casas Bahia']\n",
        "    for loja in lojas:\n",
        "        print(loja)\n",
        "    ```\n",
        "\n",
        "2. **While Loop**\n",
        "    - Introduzir loop `while` para repetições baseadas em uma condição.\n",
        "    ```python\n",
        "    while condição:\n",
        "        # código\n",
        "    ```\n",
        "\n",
        "---\n",
        "\n",
        "#### Exercícios Práticos\n",
        "\n",
        "1. **Maior Número**\n",
        "    - Dado dois números, use uma declaração `if-else` para encontrar o maior número.\n",
        "\n",
        "2. **Grau de Exame**\n",
        "    - Converta uma pontuação de exame em um grau (A, B, C, D, F) usando `if`, `elif` e `else`.\n",
        "\n",
        "3. **Soma de Números Ímpares**\n",
        "    - Use um loop `for` para encontrar a soma de todos os números ímpares de 1 a 100.\n",
        "\n",
        "4. **Contagem Regressiva**\n",
        "    - Use um loop `while` para fazer uma contagem regressiva a partir de 10 até 1.\n",
        "\n",
        "5. **Tabuada**\n",
        "    - Crie uma tabuada de multiplicação para um número usando um loop `for`.\n",
        "\n",
        "---\n",
        "\n",
        "#### Material de Apoio\n",
        "\n",
        "- [Python If-Else (W3Schools)](https://www.w3schools.com/python/python_conditions.asp)\n",
        "- [Python Loops (W3Schools)](https://www.w3schools.com/python/python_for_loops.asp)\n",
        "\n",
        "---\n"
      ],
      "metadata": {
        "id": "OsFk5cRI6haU"
      }
    },
    {
      "cell_type": "code",
      "source": [
        "# 1. Verificar qual é o maior número\n",
        "a = 5\n",
        "b = 57\n",
        "if a > b:\n",
        "  print('a maior que b.')\n",
        "else:\n",
        "  print('b maior que a.')"
      ],
      "metadata": {
        "colab": {
          "base_uri": "https://localhost:8080/"
        },
        "id": "PtilOPfDPvel",
        "outputId": "e1322d5c-b388-4c52-bce5-b53b98ee3cfe"
      },
      "execution_count": 3,
      "outputs": [
        {
          "output_type": "stream",
          "name": "stdout",
          "text": [
            "b maior que a.\n"
          ]
        }
      ]
    },
    {
      "cell_type": "code",
      "source": [
        "# 2. Converta uma pontuação de exame em um grau (A, B, C, D, F) usando if, elif e else.\n",
        "nota = float(input('Digite a nota do aluno:'))\n",
        "# se a nota está entre 9 e 10, conceito A\n",
        "if nota >= 9 and nota <= 10: print('conceito A.')\n",
        "# se a nota está entre 8 e 9, conceito B\n",
        "elif nota >= 8 and nota < 9: print('conceito B.')\n",
        "# se a nota está entre 7 e 8, conceito C\n",
        "elif nota >= 7 and nota < 8: print('conceito C.')\n",
        "# se a nota está entre 5 e 7, conceito D\n",
        "elif nota >= 5 and nota < 7: print('conceito D.')\n",
        "# se a nota está entre 0 e 5, conceito F\n",
        "elif nota >= 0 and nota < 5: print('conceito F.')\n",
        "else: print('erro, digite a nota novamente entre 0 e 10.')"
      ],
      "metadata": {
        "id": "AbqpTIvfQSlM"
      },
      "execution_count": null,
      "outputs": []
    }
  ]
}