{
  "nbformat": 4,
  "nbformat_minor": 0,
  "metadata": {
    "colab": {
      "provenance": [],
      "authorship_tag": "ABX9TyNMkkBKmQ7PsL9uX0jbB2yQ",
      "include_colab_link": true
    },
    "kernelspec": {
      "name": "python3",
      "display_name": "Python 3"
    },
    "language_info": {
      "name": "python"
    }
  },
  "cells": [
    {
      "cell_type": "markdown",
      "metadata": {
        "id": "view-in-github",
        "colab_type": "text"
      },
      "source": [
        "<a href=\"https://colab.research.google.com/github/dacasfilipe/aulas_python/blob/main/Aula_5_Python.ipynb\" target=\"_parent\"><img src=\"https://colab.research.google.com/assets/colab-badge.svg\" alt=\"Open In Colab\"/></a>"
      ]
    },
    {
      "cell_type": "code",
      "execution_count": null,
      "metadata": {
        "id": "otuM0ze5ml8h"
      },
      "outputs": [],
      "source": []
    },
    {
      "cell_type": "markdown",
      "source": [
        "---\n",
        "\n",
        "### Aula 5: Listas e Dicionários em Python\n",
        "\n",
        "#### Duração\n",
        "- 1 a 1,5 horas\n",
        "\n",
        "#### Objetivos\n",
        "- Introduzir os alunos às estruturas de dados de listas e dicionários.\n",
        "- Mostrar como manipular, acessar e iterar essas estruturas.\n",
        "\n",
        "#### Material Necessário\n",
        "- Computador com Python instalado\n",
        "- IDE ou editor de texto para programação\n",
        "- Projetor para exibir slides e exemplos de código\n",
        "\n",
        "---\n",
        "\n",
        "#### Parte 1: Listas\n",
        "\n",
        "1. **Introdução às Listas**\n",
        "    - O que são listas?\n",
        "    - Como criar uma lista.\n",
        "\n",
        "    ```python\n",
        "    minha_lista = [1, 2, 3, 4, 5]\n",
        "    ```\n",
        "\n",
        "2. **Manipulando Listas**\n",
        "    - `append()`, `remove()`, `pop()`, `index()`\n",
        "\n",
        "    ```python\n",
        "    minha_lista.append(6)  # [1, 2, 3, 4, 5, 6]\n",
        "    ```\n",
        "\n",
        "3. **Acessando Elementos**\n",
        "    - Indexação e fatiamento\n",
        "\n",
        "    ```python\n",
        "    primeiro_elemento = minha_lista[0]  # 1\n",
        "    ```\n",
        "\n",
        "---\n",
        "\n",
        "#### Parte 2: Dicionários\n",
        "\n",
        "1. **Introdução aos Dicionários**\n",
        "    - O que são dicionários?\n",
        "    - Como criar um dicionário.\n",
        "\n",
        "    ```python\n",
        "    meu_dicionario = {'nome': 'João', 'idade': 30}\n",
        "    ```\n",
        "\n",
        "2. **Manipulando Dicionários**\n",
        "    - `keys()`, `values()`, `items()`, `get()`\n",
        "\n",
        "    ```python\n",
        "    nome = meu_dicionario.get('nome')  # 'João'\n",
        "    ```\n",
        "\n",
        "---\n",
        "\n",
        "#### Exercícios Práticos\n",
        "\n",
        "1. **Lista de Compras**\n",
        "    - Crie uma lista de compras e adicione três itens usando `append()`.\n",
        "\n",
        "2. **Remoção de Item**\n",
        "    - Remova um item da lista de compras usando `remove()`.\n",
        "\n",
        "3. **Dados Pessoais**\n",
        "    - Crie um dicionário com informações como nome, idade e ocupação.\n",
        "\n",
        "4. **Busca de Chave**\n",
        "    - Verifique se uma determinada chave está presente no seu dicionário.\n",
        "\n",
        "5. **Iterando Listas e Dicionários**\n",
        "    - Use um loop `for` para iterar sobre uma lista e um dicionário, imprimindo cada item.\n",
        "\n",
        "---\n",
        "\n",
        "#### Material de Apoio\n",
        "\n",
        "- [Documentação Oficial de Listas em Python](https://docs.python.org/3/tutorial/introduction.html#lists)\n",
        "- [Documentação Oficial de Dicionários em Python](https://docs.python.org/3/tutorial/datastructures.html#dictionaries)\n",
        "- [Python Lists (W3Schools)](https://www.w3schools.com/python/python_lists.asp)\n",
        "- [Python Dictionaries (W3Schools)](https://www.w3schools.com/python/python_dictionaries.asp)\n",
        "\n",
        "---\n"
      ],
      "metadata": {
        "id": "UoOXBLSumqxV"
      }
    }
  ]
}