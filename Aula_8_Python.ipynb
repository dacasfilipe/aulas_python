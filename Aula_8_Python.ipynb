{
  "nbformat": 4,
  "nbformat_minor": 0,
  "metadata": {
    "colab": {
      "provenance": [],
      "authorship_tag": "ABX9TyNYyyb8DbP5r6VXlb41BoMP",
      "include_colab_link": true
    },
    "kernelspec": {
      "name": "python3",
      "display_name": "Python 3"
    },
    "language_info": {
      "name": "python"
    }
  },
  "cells": [
    {
      "cell_type": "markdown",
      "metadata": {
        "id": "view-in-github",
        "colab_type": "text"
      },
      "source": [
        "<a href=\"https://colab.research.google.com/github/dacasfilipe/aulas_python/blob/main/Aula_8_Python.ipynb\" target=\"_parent\"><img src=\"https://colab.research.google.com/assets/colab-badge.svg\" alt=\"Open In Colab\"/></a>"
      ]
    },
    {
      "cell_type": "markdown",
      "source": [
        "---\n",
        "\n",
        "### Aula 8: Programação Orientada a Objetos (POO) em Python\n",
        "\n",
        "#### Duração\n",
        "- 1 a 1,5 horas a\n",
        "\n",
        "#### Objetivos\n",
        "- Introduzir o conceito de Programação Orientada a Objetos (POO).\n",
        "- Ensinar como criar classes e objetos em Python.\n",
        "\n",
        "#### Material Necessário\n",
        "- Computador com Python instalado\n",
        "- IDE ou editor de texto para programação\n",
        "- Projetor para exibir slides e exemplos de código\n",
        "\n",
        "---\n",
        "\n",
        "#### Parte 1: Introdução à POO\n",
        "\n",
        "1. **O que é POO?**\n",
        "    - Abstração\n",
        "    - Encapsulamento\n",
        "    - Herança\n",
        "    - Polimorfismo\n",
        "\n",
        "2. **Classes e Objetos**\n",
        "    - Classe como um modelo\n",
        "    - Objeto como uma instância\n",
        "\n",
        "---\n",
        "\n",
        "#### Parte 2: Classes em Python\n",
        "\n",
        "1. **Criando Classes**\n",
        "    ```python\n",
        "    class Carro:\n",
        "        def __init__(self, marca, modelo):\n",
        "            self.marca = marca\n",
        "            self.modelo = modelo\n",
        "    ```\n",
        "\n",
        "2. **Métodos**\n",
        "    - Funções dentro de classes\n",
        "    ```python\n",
        "    def acelerar(self):\n",
        "        print(\"Acelerando...\")\n",
        "    ```\n",
        "\n",
        "3. **Instanciando Objetos**\n",
        "    ```python\n",
        "    meu_carro = Carro(\"Toyota\", \"Corolla\")\n",
        "    ```\n",
        "\n",
        "---\n",
        "\n",
        "#### Exercícios Práticos\n",
        "\n",
        "1. **Criar uma Classe `Pessoa`**\n",
        "    - Atributos: nome, idade\n",
        "    - Métodos: cumprimentar, aniversario\n",
        "\n",
        "2. **Classe `Calculadora`**\n",
        "    - Crie métodos para operações matemáticas básicas.\n",
        "\n",
        "3. **Classe `ContaBancaria`**\n",
        "    - Atributos: saldo, titular\n",
        "    - Métodos: depositar, sacar\n",
        "    o metodo deposito deve receber um valor e adicionar ao saldo atual da conta.\n",
        "    o metodo saque deve receber uma valor e retirar do saldo atual da conta.\n",
        "    \n",
        "\n",
        "4. **Classe `Animal` e `Cachorro`**\n",
        "    - Use herança para criar uma classe `Cachorro` que herda de `Animal`.\n",
        "\n",
        "5. **Polimorfismo com Figuras Geométricas**\n",
        "    - Crie classes `Quadrado` e `Circulo`, ambas com um método `area`.\n",
        "\n",
        "---\n",
        "\n",
        "#### Material de Apoio\n",
        "\n",
        "- [Documentação Oficial sobre Classes](https://docs.python.org/3/tutorial/classes.html)\n",
        "- [Python Classes and Objects (W3Schools)](https://www.w3schools.com/python/python_classes.asp)\n",
        "- [Python OOP Tutorial (Real Python)](https://realpython.com/python3-object-oriented-programming/)\n",
        "\n",
        "---\n"
      ],
      "metadata": {
        "id": "RNhA-MeuqZ7N"
      }
    },
    {
      "cell_type": "code",
      "source": [],
      "metadata": {
        "id": "JFlk9-qqO9C4"
      },
      "execution_count": null,
      "outputs": []
    }
  ]
}