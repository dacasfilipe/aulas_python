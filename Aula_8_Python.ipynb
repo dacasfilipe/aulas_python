{
  "nbformat": 4,
  "nbformat_minor": 0,
  "metadata": {
    "colab": {
      "provenance": [],
      "include_colab_link": true
    },
    "kernelspec": {
      "name": "python3",
      "display_name": "Python 3"
    },
    "language_info": {
      "name": "python"
    }
  },
  "cells": [
    {
      "cell_type": "markdown",
      "metadata": {
        "id": "view-in-github",
        "colab_type": "text"
      },
      "source": [
        "<a href=\"https://colab.research.google.com/github/dacasfilipe/aulas_python/blob/main/Aula_8_Python.ipynb\" target=\"_parent\"><img src=\"https://colab.research.google.com/assets/colab-badge.svg\" alt=\"Open In Colab\"/></a>"
      ]
    },
    {
      "cell_type": "markdown",
      "source": [
        "---\n",
        "\n",
        "### Aula 8: Programação Orientada a Objetos (POO) em Python\n",
        "\n",
        "#### Duração\n",
        "- 1 a 1,5 horas\n",
        "\n",
        "#### Objetivos\n",
        "- Introduzir o conceito de Programação Orientada a Objetos (POO).\n",
        "- Ensinar como criar classes e objetos em Python.\n",
        "\n",
        "#### Material Necessário\n",
        "- Computador com Python instalado\n",
        "- IDE ou editor de texto para programação\n",
        "- Projetor para exibir slides e exemplos de código\n",
        "\n",
        "---\n",
        "\n",
        "#### Parte 1: Introdução à POO\n",
        "\n",
        "1. **O que é POO?**\n",
        "    - Abstração\n",
        "    - Encapsulamento\n",
        "    - Herança\n",
        "    - Polimorfismo\n",
        "\n",
        "2. **Classes e Objetos**\n",
        "    - Classe como um modelo\n",
        "    - Objeto como uma instância\n",
        "\n",
        "---\n",
        "\n",
        "#### Parte 2: Classes em Python\n",
        "\n",
        "1. **Criando Classes**\n",
        "    ```python\n",
        "    class Carro:\n",
        "        def __init__(self, marca, modelo):\n",
        "            self.marca = marca\n",
        "            self.modelo = modelo\n",
        "    ```\n",
        "\n",
        "2. **Métodos**\n",
        "    - Funções dentro de classes\n",
        "    ```python\n",
        "    def acelerar(self):\n",
        "        print(\"Acelerando...\")\n",
        "    ```\n",
        "\n",
        "3. **Instanciando Objetos**\n",
        "    ```python\n",
        "    meu_carro = Carro(\"Toyota\", \"Corolla\")\n",
        "    ```\n",
        "**Entendendo um pouco mais sobre o código da Classe**\n",
        "\n",
        "No exemplo fornecido, a classe Carro tem um método chamado __init__.\n",
        "\n",
        "O método __init__ é um método especial que é chamado quando uma nova instância da classe é criada. No caso da classe Carro, o método __init__ é usado para inicializar os atributos marca e modelo do objeto.\n",
        "\n",
        "O self é um identificador especial que refere-se à instância atual do objeto. No caso do exemplo fornecido, self.marca e self.modelo referem-se aos atributos marca e modelo da instância atual do objeto Carro.\n",
        "\n",
        "Portanto, o código do exemplo fornecido inicializa os atributos marca e modelo de um novo objeto Carro com os valores passados como argumentos para o método __init__.\n",
        "\n",
        "\n",
        "\n",
        "Aqui está uma explicação mais detalhada do método __init__:\n",
        "\n",
        "O método __init__ é um método especial que é chamado quando uma nova instância da classe é criada.\n",
        "\n",
        "O método __init__ pode receber qualquer número de argumentos.\n",
        "\n",
        "O método __init__ é usado para inicializar os atributos do objeto.\n",
        "\n",
        "O self é um identificador especial que refere-se à instância atual do objeto.\n",
        "\n",
        "---\n",
        "#### Parte 3: Importando Classes em Python\n",
        "Para importar uma classe em outro arquivo Python, você pode usar a instrução import.\n",
        "\n",
        "A instrução import carrega um módulo Python em um espaço de nomes.\n",
        "\n",
        "Para importar uma classe específica de um módulo, você pode usar a instrução from. A instrução from importa um item específico de um módulo para o espaço de nomes atual.\n",
        "\n",
        "Aqui está um exemplo de como importar uma classe em outro arquivo Python usando a instrução import:\n",
        "\n",
        "\n",
        "---\n"
      ],
      "metadata": {
        "id": "RNhA-MeuqZ7N"
      }
    },
    {
      "cell_type": "code",
      "source": [
        "# arquivo carro.py\n",
        "\n",
        "class Carro:\n",
        "     def __init__(self, marca, modelo):\n",
        "         self.marca = marca\n",
        "         self.modelo = modelo\n",
        "\n",
        "    def acelerar(self):\n",
        "      print(\"Acelerando...\")\n"
      ],
      "metadata": {
        "id": "7Tacaq4HqBgg"
      },
      "execution_count": null,
      "outputs": []
    },
    {
      "cell_type": "code",
      "source": [
        "# arquivo main.py\n",
        "\n",
        "import carro\n",
        "\n",
        "#instanciando o objeto carro e passando os atributos \"Fiat\"e \"Uno\" para o método construtor\n",
        "carro = carro.Carro(\"Fiat\", \"Uno\")\n",
        "\n",
        "print(carro.marca)\n",
        "print(carro.modelo)\n",
        "\n",
        "#chama o método acelerar\n",
        "acelerar()"
      ],
      "metadata": {
        "id": "K8gb4gI5qDQI"
      },
      "execution_count": null,
      "outputs": []
    },
    {
      "cell_type": "markdown",
      "source": [
        "\n",
        "#### Exercícios Práticos\n",
        "\n",
        "1. **Criar uma Classe `Pessoa`**\n",
        "    - Atributos: nome, idade\n",
        "    - Métodos: cumprimentar, aniversario\n",
        "\n",
        "2. **Classe `Calculadora`**\n",
        "    - Crie métodos para operações matemáticas básicas.\n",
        "\n",
        "3. **Classe `ContaBancaria`**\n",
        "    - Atributos: saldo, titular\n",
        "    - Métodos: depositar, sacar\n",
        "\n",
        "4. **Classe `Animal` e `Cachorro`**\n",
        "    - Use herança para criar uma classe `Cachorro` que herda de `Animal`.\n",
        "\n",
        "5. **Polimorfismo com Figuras Geométricas**\n",
        "    - Crie classes `Quadrado` e `Circulo`, ambas com um método `area`.\n",
        "\n",
        "---\n",
        "\n",
        "#### Material de Apoio\n",
        "\n",
        "- [Documentação Oficial sobre Classes](https://docs.python.org/3/tutorial/classes.html)\n",
        "- [Python Classes and Objects (W3Schools)](https://www.w3schools.com/python/python_classes.asp)\n",
        "- [Python OOP Tutorial (Real Python)](https://realpython.com/python3-object-oriented-programming/)\n",
        "\n",
        "---"
      ],
      "metadata": {
        "id": "oWIzkwEdqPis"
      }
    }
  ]
}