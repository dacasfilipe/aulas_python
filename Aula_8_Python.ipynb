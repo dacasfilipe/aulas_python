{
  "nbformat": 4,
  "nbformat_minor": 0,
  "metadata": {
    "colab": {
      "provenance": [],
      "authorship_tag": "ABX9TyOI6+ZI6vW9LXHNcEirjWea",
      "include_colab_link": true
    },
    "kernelspec": {
      "name": "python3",
      "display_name": "Python 3"
    },
    "language_info": {
      "name": "python"
    }
  },
  "cells": [
    {
      "cell_type": "markdown",
      "metadata": {
        "id": "view-in-github",
        "colab_type": "text"
      },
      "source": [
        "<a href=\"https://colab.research.google.com/github/dacasfilipe/aulas_python/blob/main/Aula_8_Python.ipynb\" target=\"_parent\"><img src=\"https://colab.research.google.com/assets/colab-badge.svg\" alt=\"Open In Colab\"/></a>"
      ]
    },
    {
      "cell_type": "markdown",
      "source": [
        "---\n",
        "\n",
        "### Aula 8: Programação Orientada a Objetos (POO) em Python\n",
        "\n",
        "#### Duração\n",
        "- 1 a 1,5 horas a\n",
        "\n",
        "#### Objetivos\n",
        "- Introduzir o conceito de Programação Orientada a Objetos (POO).\n",
        "- Ensinar como criar classes e objetos em Python.\n",
        "\n",
        "#### Material Necessário\n",
        "- Computador com Python instalado\n",
        "- IDE ou editor de texto para programação\n",
        "- Projetor para exibir slides e exemplos de código\n",
        "\n",
        "---\n",
        "\n",
        "#### Parte 1: Introdução à POO\n",
        "\n",
        "1. **O que é POO?**\n",
        "    - Abstração\n",
        "    - Encapsulamento\n",
        "    - Herança\n",
        "    - Polimorfismo\n",
        "\n",
        "2. **Classes e Objetos**\n",
        "    - Classe como um modelo\n",
        "    - Objeto como uma instância\n",
        "\n",
        "---\n",
        "\n",
        "#### Parte 2: Classes em Python\n",
        "\n",
        "1. **Criando Classes**\n",
        "    ```python\n",
        "    class Carro:\n",
        "        def __init__(self, marca, modelo):\n",
        "            self.marca = marca\n",
        "            self.modelo = modelo\n",
        "    ```\n",
        "\n",
        "2. **Métodos**\n",
        "    - Funções dentro de classes\n",
        "    ```python\n",
        "    def acelerar(self):\n",
        "        print(\"Acelerando...\")\n",
        "    ```\n",
        "\n",
        "3. **Instanciando Objetos**\n",
        "    ```python\n",
        "    meu_carro = Carro(\"Toyota\", \"Corolla\")\n",
        "    ```\n",
        "\n",
        "---\n",
        "\n",
        "#### Exercícios Práticos\n",
        "\n",
        "1. **Criar uma Classe `Pessoa`**\n",
        "    - Atributos: nome, idade\n",
        "    - Métodos: cumprimentar, aniversario\n",
        "\n",
        "2. **Classe `Calculadora`**\n",
        "    - Crie métodos para operações matemáticas básicas.\n",
        "\n",
        "3. **Classe `ContaBancaria`**\n",
        "    - Atributos: saldo, titular\n",
        "    - Métodos: depositar, sacar\n",
        "    o metodo deposito deve receber um valor e adicionar ao saldo atual da conta.\n",
        "    o metodo saque deve receber uma valor e retirar do saldo atual da conta.\n",
        "    \n",
        "\n",
        "4. **Classe `Animal` e `Cachorro`**\n",
        "    - Use herança para criar uma classe `Cachorro` que herda de `Animal`.\n",
        "\n",
        "5. **Polimorfismo com Figuras Geométricas**\n",
        "    - Crie classes `Quadrado` e `Circulo`, ambas com um método `area`.\n",
        "\n",
        "---\n",
        "\n",
        "#### Material de Apoio\n",
        "\n",
        "- [Documentação Oficial sobre Classes](https://docs.python.org/3/tutorial/classes.html)\n",
        "- [Python Classes and Objects (W3Schools)](https://www.w3schools.com/python/python_classes.asp)\n",
        "- [Python OOP Tutorial (Real Python)](https://realpython.com/python3-object-oriented-programming/)\n",
        "\n",
        "---\n"
      ],
      "metadata": {
        "id": "RNhA-MeuqZ7N"
      }
    },
    {
      "cell_type": "code",
      "source": [
        "#exercício 4\n",
        "class Animal:\n",
        "    def __init__(self, nome, idade):\n",
        "        self.nome = nome\n",
        "        self.idade = idade\n",
        "\n",
        "    def emitir_som(self):\n",
        "        print(\"Som de animal\")\n",
        "\n",
        "class Cachorro(Animal):\n",
        "    def __init__(self, nome, idade, raca):\n",
        "        super().__init__(nome, idade)\n",
        "        self.raca = raca\n",
        "\n",
        "    def latir(self):\n",
        "        print(\"Au au!\")\n",
        "\n",
        "\n",
        "# Exemplo de uso\n",
        "cachorro = Cachorro(\"Totó\", 10, \"Poodle\")\n",
        "cachorro.emitir_som()\n",
        "cachorro.latir()\n"
      ],
      "metadata": {
        "id": "JFlk9-qqO9C4",
        "colab": {
          "base_uri": "https://localhost:8080/"
        },
        "outputId": "ab2c1149-46e2-4ece-f134-0496a27d2385"
      },
      "execution_count": 1,
      "outputs": [
        {
          "output_type": "stream",
          "name": "stdout",
          "text": [
            "Som de animal\n",
            "Au au!\n"
          ]
        }
      ]
    },
    {
      "cell_type": "code",
      "source": [
        "#exercício 5\n",
        "class FiguraGeometrica:\n",
        "    def __init__(self, nome):\n",
        "        self.nome = nome\n",
        "\n",
        "    def area(self):\n",
        "        raise NotImplementedError(\"Método area não implementado\")\n",
        "\n",
        "\n",
        "class Quadrado(FiguraGeometrica):\n",
        "    def __init__(self, nome, lado):\n",
        "        super().__init__(nome)\n",
        "        self.lado = lado\n",
        "\n",
        "    def area(self):\n",
        "        return self.lado * self.lado\n",
        "\n",
        "\n",
        "class Circulo(FiguraGeometrica):\n",
        "    def __init__(self, nome, raio):\n",
        "        super().__init__(nome)\n",
        "        self.raio = raio\n",
        "\n",
        "    def area(self):\n",
        "        return 3.14 * self.raio ** 2\n",
        "\n",
        "\n",
        "# Exemplo de uso\n",
        "quadrado = Quadrado(\"Quadrado\", 10)\n",
        "circulo = Circulo(\"Circulo\", 5)\n",
        "\n",
        "print(quadrado.area())\n",
        "print(circulo.area())\n"
      ],
      "metadata": {
        "colab": {
          "base_uri": "https://localhost:8080/"
        },
        "id": "sKhF3pDGDFo3",
        "outputId": "e6d0a995-c38b-4075-cbb2-7d60b311f1f5"
      },
      "execution_count": 2,
      "outputs": [
        {
          "output_type": "stream",
          "name": "stdout",
          "text": [
            "100\n",
            "78.5\n"
          ]
        }
      ]
    }
  ]
}